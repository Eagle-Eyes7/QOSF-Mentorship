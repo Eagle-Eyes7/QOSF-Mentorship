{
 "cells": [
  {
   "cell_type": "code",
   "execution_count": 1,
   "id": "5a74e766",
   "metadata": {},
   "outputs": [
    {
     "name": "stdout",
     "output_type": "stream",
     "text": [
      "Enter a list of integers separated by spaces: 512121 -1 23231\n",
      "True\n"
     ]
    }
   ],
   "source": [
    "from qiskit import QuantumCircuit, execute, Aer\n",
    "\n",
    "def find_negative_numbers_dynamic_qubits():\n",
    "    # Take user input for a list of numbers\n",
    "    input_str = input(\"Enter a list of integers separated by spaces: \")\n",
    "    input_list = list(map(int, input_str.split()))\n",
    "\n",
    "    n = len(input_list)\n",
    "    qc = QuantumCircuit(n, n)\n",
    "\n",
    "    for i, num in enumerate(input_list):\n",
    "        if num < 0:\n",
    "            qc.x(i)  # Flip the qubit if the number is negative\n",
    "\n",
    "    # Measure all qubits\n",
    "    qc.measure(range(n), range(n))\n",
    "\n",
    "    simulator = Aer.get_backend('qasm_simulator')\n",
    "    job = execute(qc, simulator, shots=1)\n",
    "    result = job.result()\n",
    "    counts = result.get_counts(qc)\n",
    "\n",
    "    # Check if any qubit was measured in the |1⟩ state (negative)\n",
    "    for state, count in counts.items():\n",
    "        if '1' in state:\n",
    "            return \"True\"\n",
    "\n",
    "    return \"False\"\n",
    "\n",
    "# Example usage:\n",
    "result = find_negative_numbers_dynamic_qubits()\n",
    "print(result)"
   ]
  },
  {
   "cell_type": "code",
   "execution_count": null,
   "id": "95beb051",
   "metadata": {},
   "outputs": [],
   "source": []
  }
 ],
 "metadata": {
  "kernelspec": {
   "display_name": "Python 3 (ipykernel)",
   "language": "python",
   "name": "python3"
  },
  "language_info": {
   "codemirror_mode": {
    "name": "ipython",
    "version": 3
   },
   "file_extension": ".py",
   "mimetype": "text/x-python",
   "name": "python",
   "nbconvert_exporter": "python",
   "pygments_lexer": "ipython3",
   "version": "3.10.12"
  }
 },
 "nbformat": 4,
 "nbformat_minor": 5
}
