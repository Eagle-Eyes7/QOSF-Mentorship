{
 "cells": [
  {
   "cell_type": "markdown",
   "id": "afafc80f-6f8a-4cbb-9276-f9e6a4faeffe",
   "metadata": {},
   "source": [
    "# Screening Task Submission Form: Batch 7\n",
    "\n",
    "## Find the largest number\n",
    "\n",
    "### Task: \n"
   ]
  },
  {
   "cell_type": "code",
   "execution_count": 1,
   "id": "9519970a-0234-4e6c-8860-bc6cff112b42",
   "metadata": {},
   "outputs": [],
   "source": [
    "from qiskit import QuantumCircuit, Aer, execute\n",
    "from qiskit.visualization import plot_histogram\n",
    "import pennylane as pl"
   ]
  },
  {
   "cell_type": "code",
   "execution_count": 28,
   "id": "cfd13417-eaf1-425b-9c7e-6fa0478639f4",
   "metadata": {},
   "outputs": [],
   "source": [
    "def compare_numbers(num1, num2):\n",
    "    # Determine the number of qubits needed to represent the larger number\n",
    "    num_qubits = max(len(bin(abs(num1))), len(bin(abs(num2))))\n",
    "    \n",
    "    \n",
    "    # Create a quantum circuit with the necessary number of qubits plus an ancilla qubit\n",
    "    circuit = QuantumCircuit(num_qubits+1, 1)\n",
    "    \n",
    "    \n",
    "    # Initialize the input qubits with the binary representation of the numbers\n",
    "    binary_num1 = format(num1, f\"0{num_qubits}b\")\n",
    "    binary_num2 = format(num2, f\"0{num_qubits}b\")\n",
    "    \n",
    "    for i in range(num_qubits):\n",
    "        if binary_num1[i] == '1':\n",
    "            circuit.x(i)\n",
    "            \n",
    "        if binary_num2[i] == '1':\n",
    "            circuit.x(num_qubits-i-1)\n",
    "            \n",
    "    \n",
    "    # Set the ancilla qubit to the superposition state\n",
    "    circuit.h(num_qubits)\n",
    "    \n",
    "\n",
    "    # Use controlled-swap gates to compare the two numbers\n",
    "    for i in range(num_qubits):\n",
    "        if i != num_qubits-i-1:\n",
    "            \n",
    "            circuit.cswap(i, num_qubits-i-1, num_qubits)\n",
    "            \n",
    "    for i in range(num_qubits):\n",
    "        if i != num_qubits:\n",
    "          \n",
    "            circuit.cx(i, num_qubits)\n",
    "            \n",
    "    \n",
    "    # Measure the ancilla qubit\n",
    "    circuit.measure(num_qubits, 0)\n",
    "    print(\"Drawing Circuit\")\n",
    "    print(circuit.draw())\n",
    "    \n",
    "    # Simulate the circuit on a classical computer\n",
    "    backend = Aer.get_backend('qasm_simulator')\n",
    "    result = execute(circuit, backend=backend, shots=1).result()\n",
    "    counts = result.get_counts(circuit)\n",
    "    \n",
    "    # Determine which number is larger based on the measurement outcome\n",
    "    if '0' in counts:\n",
    "        return num1 if binary_num1 > binary_num2 else num2\n",
    "    else:\n",
    "        return num2 if binary_num1 > binary_num2 else num1\n",
    "        "
   ]
  },
  {
   "cell_type": "code",
   "execution_count": 29,
   "id": "7c663638-0974-4b97-ae83-16a75c7e2a2c",
   "metadata": {},
   "outputs": [
    {
     "name": "stdout",
     "output_type": "stream",
     "text": [
      "Drawing Circuit\n",
      "     ┌───┐                                                             \n",
      "q_0: ┤ X ├──────■──────────────X───■───────────────────────────────────\n",
      "     └───┘      │              │   │                                   \n",
      "q_1: ───────────┼──■────────X──┼───┼────■──────────────────────────────\n",
      "                │  │        │  │   │    │                              \n",
      "q_2: ───────────┼──┼──■──X──┼──┼───┼────┼────■─────────────────────────\n",
      "                │  │  │  │  │  │   │    │    │                         \n",
      "q_3: ───────────┼──┼──┼──┼──┼──┼───┼────┼────┼────■────────────────────\n",
      "     ┌───┐┌───┐ │  │  │  │  │  │   │    │    │    │                    \n",
      "q_4: ┤ X ├┤ X ├─┼──┼──X──■──┼──┼───┼────┼────┼────┼────■───────────────\n",
      "     └───┘└───┘ │  │  │  │  │  │   │    │    │    │    │               \n",
      "q_5: ───────────┼──X──┼──┼──■──┼───┼────┼────┼────┼────┼────■──────────\n",
      "     ┌───┐      │  │  │  │  │  │   │    │    │    │    │    │          \n",
      "q_6: ┤ X ├──────X──┼──┼──┼──┼──■───┼────┼────┼────┼────┼────┼────■─────\n",
      "     ├───┤      │  │  │  │  │  │ ┌─┴─┐┌─┴─┐┌─┴─┐┌─┴─┐┌─┴─┐┌─┴─┐┌─┴─┐┌─┐\n",
      "q_7: ┤ H ├──────X──X──X──X──X──X─┤ X ├┤ X ├┤ X ├┤ X ├┤ X ├┤ X ├┤ X ├┤M├\n",
      "     └───┘                       └───┘└───┘└───┘└───┘└───┘└───┘└───┘└╥┘\n",
      "c: 1/════════════════════════════════════════════════════════════════╩═\n",
      "                                                                     0 \n",
      "The Largest Number is:  17\n"
     ]
    }
   ],
   "source": [
    "# Example usage\n",
    "print(\"The Largest Number is: \", compare_numbers(5, 17)) # Output: 7\n",
    "\n"
   ]
  },
  {
   "cell_type": "code",
   "execution_count": 30,
   "id": "4debcbb0-597a-4a11-8033-f29a20f391a9",
   "metadata": {},
   "outputs": [
    {
     "name": "stdout",
     "output_type": "stream",
     "text": [
      "Drawing Circuit\n",
      "     ┌───┐                                             \n",
      "q_0: ┤ X ├──────■────────X───■─────────────────────────\n",
      "     ├───┤      │        │   │                         \n",
      "q_1: ┤ X ├──────┼──■──X──┼───┼────■────────────────────\n",
      "     ├───┤┌───┐ │  │  │  │   │    │                    \n",
      "q_2: ┤ X ├┤ X ├─┼──┼──┼──┼───┼────┼────■───────────────\n",
      "     └───┘└───┘ │  │  │  │   │    │    │               \n",
      "q_3: ───────────┼──X──■──┼───┼────┼────┼────■──────────\n",
      "     ┌───┐      │  │  │  │   │    │    │    │          \n",
      "q_4: ┤ X ├──────X──┼──┼──■───┼────┼────┼────┼────■─────\n",
      "     ├───┤      │  │  │  │ ┌─┴─┐┌─┴─┐┌─┴─┐┌─┴─┐┌─┴─┐┌─┐\n",
      "q_5: ┤ H ├──────X──X──X──X─┤ X ├┤ X ├┤ X ├┤ X ├┤ X ├┤M├\n",
      "     └───┘                 └───┘└───┘└───┘└───┘└───┘└╥┘\n",
      "c: 1/════════════════════════════════════════════════╩═\n",
      "                                                     0 \n",
      "7\n"
     ]
    }
   ],
   "source": [
    "print(compare_numbers(-5, 7))"
   ]
  },
  {
   "cell_type": "code",
   "execution_count": 31,
   "id": "f488c520-20f6-4a6e-8730-a7784b5b1c8e",
   "metadata": {},
   "outputs": [
    {
     "name": "stdout",
     "output_type": "stream",
     "text": [
      "Drawing Circuit\n",
      "     ┌───┐                                             \n",
      "q_0: ┤ X ├──────■────────X───■─────────────────────────\n",
      "     ├───┤      │        │   │                         \n",
      "q_1: ┤ X ├──────┼──■──X──┼───┼────■────────────────────\n",
      "     ├───┤┌───┐ │  │  │  │   │    │                    \n",
      "q_2: ┤ X ├┤ X ├─┼──┼──┼──┼───┼────┼────■───────────────\n",
      "     └───┘└───┘ │  │  │  │   │    │    │               \n",
      "q_3: ───────────┼──X──■──┼───┼────┼────┼────■──────────\n",
      "     ┌───┐      │  │  │  │   │    │    │    │          \n",
      "q_4: ┤ X ├──────X──┼──┼──■───┼────┼────┼────┼────■─────\n",
      "     ├───┤      │  │  │  │ ┌─┴─┐┌─┴─┐┌─┴─┐┌─┴─┐┌─┴─┐┌─┐\n",
      "q_5: ┤ H ├──────X──X──X──X─┤ X ├┤ X ├┤ X ├┤ X ├┤ X ├┤M├\n",
      "     └───┘                 └───┘└───┘└───┘└───┘└───┘└╥┘\n",
      "c: 1/════════════════════════════════════════════════╩═\n",
      "                                                     0 \n",
      "-5\n"
     ]
    }
   ],
   "source": [
    "print(compare_numbers(-5, -7))"
   ]
  },
  {
   "cell_type": "code",
   "execution_count": 32,
   "id": "c83b8ba2-95c2-4c12-9d4e-afa9b345a261",
   "metadata": {},
   "outputs": [
    {
     "name": "stdout",
     "output_type": "stream",
     "text": [
      "Drawing Circuit\n",
      "     ┌───┐                                             \n",
      "q_0: ┤ X ├──────■────────X───■─────────────────────────\n",
      "     ├───┤      │        │   │                         \n",
      "q_1: ┤ X ├──────┼──■──X──┼───┼────■────────────────────\n",
      "     ├───┤┌───┐ │  │  │  │   │    │                    \n",
      "q_2: ┤ X ├┤ X ├─┼──┼──┼──┼───┼────┼────■───────────────\n",
      "     └───┘└───┘ │  │  │  │   │    │    │               \n",
      "q_3: ───────────┼──X──■──┼───┼────┼────┼────■──────────\n",
      "     ┌───┐      │  │  │  │   │    │    │    │          \n",
      "q_4: ┤ X ├──────X──┼──┼──■───┼────┼────┼────┼────■─────\n",
      "     ├───┤      │  │  │  │ ┌─┴─┐┌─┴─┐┌─┴─┐┌─┴─┐┌─┴─┐┌─┐\n",
      "q_5: ┤ H ├──────X──X──X──X─┤ X ├┤ X ├┤ X ├┤ X ├┤ X ├┤M├\n",
      "     └───┘                 └───┘└───┘└───┘└───┘└───┘└╥┘\n",
      "c: 1/════════════════════════════════════════════════╩═\n",
      "                                                     0 \n",
      "7\n"
     ]
    }
   ],
   "source": [
    "print(compare_numbers(-5, 7))"
   ]
  },
  {
   "cell_type": "code",
   "execution_count": null,
   "id": "e0e7710a-b724-4bab-9887-faf1d0dc4722",
   "metadata": {},
   "outputs": [],
   "source": []
  },
  {
   "cell_type": "code",
   "execution_count": null,
   "id": "bd82936e-6277-4caf-9029-31b8f527fd4d",
   "metadata": {},
   "outputs": [],
   "source": []
  }
 ],
 "metadata": {
  "kernelspec": {
   "display_name": "PennyLane",
   "language": "python",
   "name": "pennylane"
  },
  "language_info": {
   "codemirror_mode": {
    "name": "ipython",
    "version": 3
   },
   "file_extension": ".py",
   "mimetype": "text/x-python",
   "name": "python",
   "nbconvert_exporter": "python",
   "pygments_lexer": "ipython3",
   "version": "3.9.15"
  }
 },
 "nbformat": 4,
 "nbformat_minor": 5
}
